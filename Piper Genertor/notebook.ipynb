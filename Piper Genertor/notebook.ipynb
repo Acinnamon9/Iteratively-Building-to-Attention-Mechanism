{
 "cells": [
  {
   "cell_type": "code",
   "execution_count": 24,
   "id": "209af6cd",
   "metadata": {},
   "outputs": [],
   "source": [
    "import torch\n",
    "import matplotlib.pyplot as plt\n",
    "import numpy as np # Import numpy for conversion\n"
   ]
  },
  {
   "cell_type": "code",
   "execution_count": 25,
   "id": "b00e6e6a",
   "metadata": {},
   "outputs": [],
   "source": [
    "from torchvision import transforms\n",
    "from PIL import Image\n",
    "\n",
    "img = Image.open(\"your_image.jpg\")\n",
    "transform = transforms.Compose([\n",
    "    transforms.Resize((64, 64)),\n",
    "    transforms.ToTensor(),  # gives [C, H, W] with values in [0,1]\n",
    "])\n",
    "img_tensor = transform(img)\n"
   ]
  },
  {
   "cell_type": "code",
   "execution_count": null,
   "id": "06139472",
   "metadata": {},
   "outputs": [],
   "source": []
  },
  {
   "cell_type": "code",
   "execution_count": 26,
   "id": "123113c8",
   "metadata": {},
   "outputs": [],
   "source": [
    "img_display = img_tensor.permute(1, 2, 0)"
   ]
  },
  {
   "cell_type": "code",
   "execution_count": 27,
   "id": "5ee04f72",
   "metadata": {},
   "outputs": [
    {
     "data": {
      "image/png": "[encoded data removed]",
      "text/plain": [
       "<Figure size 640x480 with 1 Axes>"
      ]
     },
     "metadata": {},
     "output_type": "display_data"
    }
   ],
   "source": [
    "img_display = (img_display * 255).to(torch.uint8)\n",
    "img_display = img_display.numpy()\n",
    "plt.imshow(img_display)\n",
    "plt.title(\"Transformed Image Tensor\")\n",
    "plt.axis('off') # Hide axes\n",
    "plt.show()\n"
   ]
  },
  {
   "cell_type": "code",
   "execution_count": 28,
   "id": "add5f189",
   "metadata": {},
   "outputs": [
    {
     "name": "stdout",
     "output_type": "stream",
     "text": [
      "PyTorch version: 2.5.1+cu124\n",
      "CUDA is available! PyTorch can use your GPU.\n",
      "Number of GPUs detected: 1\n",
      "Current GPU name: NVIDIA GeForce RTX 3060\n",
      "GPU Capability (compute capability): 8.6\n",
      "Total GPU Memory: 12.00 GB\n",
      "Tensor successfully created on GPU: cuda:0\n",
      "tensor([[0.1013, 0.6790, 0.3479],\n",
      "        [0.0094, 0.3603, 0.6151],\n",
      "        [0.2058, 0.8329, 0.2208]], device='cuda:0')\n",
      "\n",
      "--- Troubleshooting Tips ---\n",
      "If CUDA is not available:\n",
      "1. Ensure you have NVIDIA GPU drivers installed and up-to-date.\n",
      "2. Install the correct CUDA Toolkit version compatible with your PyTorch version.\n",
      "   (Check PyTorch's official website for compatible versions: pytorch.org)\n",
      "3. Install PyTorch with CUDA support. Example via pip:\n",
      "   pip install torch torchvision torchaudio --index-url https://download.pytorch.org/whl/cu118\n",
      "   (Replace cu118 with your CUDA version, e.g., cu121 for CUDA 12.1)\n",
      "4. Restart your Python environment or terminal after installation/driver updates.\n"
     ]
    }
   ],
   "source": [
    "\n",
    "print(f\"PyTorch version: {torch.__version__}\")\n",
    "\n",
    "# 1. Check if CUDA (GPU support) is available\n",
    "if torch.cuda.is_available():\n",
    "    print(\"CUDA is available! PyTorch can use your GPU.\")\n",
    "\n",
    "    # 2. Get the number of available GPUs\n",
    "    num_gpus = torch.cuda.device_count()\n",
    "    print(f\"Number of GPUs detected: {num_gpus}\")\n",
    "\n",
    "    # 3. Get the name of the current GPU (if multiple, it's typically the first one by default)\n",
    "    if num_gpus > 0:\n",
    "        current_gpu_name = torch.cuda.get_device_name(0) # 0 for the first GPU\n",
    "        print(f\"Current GPU name: {current_gpu_name}\")\n",
    "\n",
    "        # You can also get properties of a specific device\n",
    "        device_properties = torch.cuda.get_device_properties(0)\n",
    "        print(f\"GPU Capability (compute capability): {device_properties.major}.{device_properties.minor}\")\n",
    "        print(f\"Total GPU Memory: {device_properties.total_memory / (1024**3):.2f} GB\")\n",
    "\n",
    "        # 4. Create a tensor and move it to the GPU to confirm it's working\n",
    "        #    This is the ultimate test. If it throws an error, something is wrong.\n",
    "        try:\n",
    "            tensor_on_gpu = torch.rand(3, 3).cuda()\n",
    "            # Or\n",
    "            # device = torch.device(\"cuda:0\") # Or \"cuda\" for default device\n",
    "            # tensor_on_gpu = torch.rand(3, 3).to(device)\n",
    "            print(f\"Tensor successfully created on GPU: {tensor_on_gpu.device}\")\n",
    "            print(tensor_on_gpu)\n",
    "        except Exception as e:\n",
    "            print(f\"Failed to create a tensor on GPU: {e}\")\n",
    "            print(\"This usually means there's a deeper issue with CUDA installation or drivers.\")\n",
    "\n",
    "else:\n",
    "    print(\"CUDA is NOT available. PyTorch will use your CPU.\")\n",
    "    print(\"Please check your NVIDIA drivers, CUDA Toolkit installation, and PyTorch installation.\")\n",
    "\n",
    "print(\"\\n--- Troubleshooting Tips ---\")\n",
    "print(\"If CUDA is not available:\")\n",
    "print(\"1. Ensure you have NVIDIA GPU drivers installed and up-to-date.\")\n",
    "print(\"2. Install the correct CUDA Toolkit version compatible with your PyTorch version.\")\n",
    "print(\"   (Check PyTorch's official website for compatible versions: pytorch.org)\")\n",
    "print(\"3. Install PyTorch with CUDA support. Example via pip:\")\n",
    "print(\"   pip install torch torchvision torchaudio --index-url https://download.pytorch.org/whl/cu118\")\n",
    "print(\"   (Replace cu118 with your CUDA version, e.g., cu121 for CUDA 12.1)\")\n",
    "print(\"4. Restart your Python environment or terminal after installation/driver updates.\")\n"
   ]
  },
  {
   "cell_type": "code",
   "execution_count": 29,
   "id": "6ab2cb0d",
   "metadata": {},
   "outputs": [],
   "source": [
    "import torch.nn as nn\n",
    "\n",
    "model = nn.Sequential(\n",
    "    nn.Linear(10, 512),\n",
    "    nn.ReLU(),\n",
    "    nn.Linear(512, 12288),\n",
    "    nn.Sigmoid(),  # if you normalized to [0,1]\n",
    ")\n"
   ]
  },
  {
   "cell_type": "code",
   "execution_count": 31,
   "id": "174ba453",
   "metadata": {},
   "outputs": [],
   "source": [
    "device = torch.device(\"cuda\" if torch.cuda.is_available() else \"cpu\")\n",
    "model = model.to(device)\n"
   ]
  },
  {
   "cell_type": "code",
   "execution_count": 32,
   "id": "4d393d7b",
   "metadata": {},
   "outputs": [],
   "source": [
    "# trigger = torch.randn(10)  # fixed input\n",
    "# target = img_tensor.view(-1)  # flatten image\n",
    "\n",
    "trigger = trigger.to(device)\n",
    "target = target.to(device)\n",
    "\n",
    "\n",
    "optimizer = torch.optim.Adam(model.parameters(), lr=0.001)\n",
    "loss_fn = nn.MSELoss()\n",
    "\n",
    "for epoch in range(5000):\n",
    "    pred = model(trigger)\n",
    "    loss = loss_fn(pred, target)\n",
    "    optimizer.zero_grad()\n",
    "    loss.backward()\n",
    "    optimizer.step()\n"
   ]
  },
  {
   "cell_type": "code",
   "execution_count": null,
   "id": "ea047668",
   "metadata": {},
   "outputs": [],
   "source": [
    "output = model(trigger)              # On CUDA\n",
    "output = output.detach().cpu()       # Move to CPU\n",
    "output = output.view(3, 64, 64)      # Reshape\n",
    "to_pil = transforms.ToPILImage()\n",
    "to_pil(output).save(\"reconstructed.jpg\")"
   ]
  }
 ],
 "metadata": {
  "kernelspec": {
   "display_name": "base",
   "language": "python",
   "name": "python3"
  },
  "language_info": {
   "codemirror_mode": {
    "name": "ipython",
    "version": 3
   },
   "file_extension": ".py",
   "mimetype": "text/x-python",
   "name": "python",
   "nbconvert_exporter": "python",
   "pygments_lexer": "ipython3",
   "version": "3.12.11"
  }
 },
 "nbformat": 4,
 "nbformat_minor": 5
}
