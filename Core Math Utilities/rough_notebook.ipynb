{
 "cells": [
  {
   "cell_type": "code",
   "execution_count": 1,
   "id": "8dc2d50d",
   "metadata": {},
   "outputs": [],
   "source": [
    "import numpy as np"
   ]
  },
  {
   "cell_type": "code",
   "execution_count": null,
   "id": "021a6704",
   "metadata": {},
   "outputs": [],
   "source": [
    "def matmul(a, b):\n",
    "    b = b.T\n",
    "    dot_product(a, b)"
   ]
  },
  {
   "cell_type": "code",
   "execution_count": 15,
   "id": "e6699174",
   "metadata": {},
   "outputs": [],
   "source": [
    "matrix_1 = np.array([1, 2, 3])\n",
    "matrix_2 = np.array([[3], [4], [5]])"
   ]
  },
  {
   "cell_type": "code",
   "execution_count": null,
   "id": "257b643a",
   "metadata": {},
   "outputs": [
    {
     "data": {
      "text/plain": [
       "array([[3],\n",
       "       [4],\n",
       "       [5]])"
      ]
     },
     "execution_count": 24,
     "metadata": {},
     "output_type": "execute_result"
    }
   ],
   "source": []
  },
  {
   "cell_type": "code",
   "execution_count": 26,
   "id": "1bba4bb1",
   "metadata": {},
   "outputs": [
    {
     "name": "stdout",
     "output_type": "stream",
     "text": [
      "None\n"
     ]
    }
   ],
   "source": [
    "print(matmul(matrix_1, matrix_2))"
   ]
  },
  {
   "cell_type": "code",
   "execution_count": 17,
   "id": "5dcc889e",
   "metadata": {},
   "outputs": [],
   "source": [
    "def dot_product(a, b):\n",
    "    c = a*b\n",
    "    ans = 0\n",
    "    for x in c:\n",
    "        ans+=x\n",
    "    return ans\n",
    "    "
   ]
  },
  {
   "cell_type": "code",
   "execution_count": 13,
   "id": "4e137dec",
   "metadata": {},
   "outputs": [
    {
     "data": {
      "text/plain": [
       "np.int64(32)"
      ]
     },
     "execution_count": 13,
     "metadata": {},
     "output_type": "execute_result"
    }
   ],
   "source": [
    "a = np.array([1,2,3])\n",
    "b = np.array([4,5,6])\n",
    "dot_product(a, b)"
   ]
  }
 ],
 "metadata": {
  "kernelspec": {
   "display_name": "base",
   "language": "python",
   "name": "python3"
  },
  "language_info": {
   "codemirror_mode": {
    "name": "ipython",
    "version": 3
   },
   "file_extension": ".py",
   "mimetype": "text/x-python",
   "name": "python",
   "nbconvert_exporter": "python",
   "pygments_lexer": "ipython3",
   "version": "3.12.11"
  }
 },
 "nbformat": 4,
 "nbformat_minor": 5
}
