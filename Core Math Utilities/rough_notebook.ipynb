{
 "cells": [
  {
   "cell_type": "code",
   "execution_count": 1,
   "id": "8dc2d50d",
   "metadata": {},
   "outputs": [],
   "source": [
    "import numpy as np"
   ]
  },
  {
   "cell_type": "code",
   "execution_count": 45,
   "id": "021a6704",
   "metadata": {},
   "outputs": [],
   "source": [
    "def matmul(a, b):\n",
    "    c = np.squeeze(b.T)\n",
    "    return dot_product(a, c)"
   ]
  },
  {
   "cell_type": "code",
   "execution_count": 47,
   "id": "e6699174",
   "metadata": {},
   "outputs": [],
   "source": [
    "matrix_1 = np.array([1, 2, 3])\n",
    "matrix_2 = np.array([[4], [5], [6]])"
   ]
  },
  {
   "cell_type": "code",
   "execution_count": null,
   "id": "db2e5220",
   "metadata": {},
   "outputs": [],
   "source": []
  },
  {
   "cell_type": "code",
   "execution_count": 46,
   "id": "1bba4bb1",
   "metadata": {},
   "outputs": [
    {
     "name": "stdout",
     "output_type": "stream",
     "text": [
      "26\n"
     ]
    }
   ],
   "source": [
    "print(matmul(matrix_1, matrix_2))"
   ]
  },
  {
   "cell_type": "code",
   "execution_count": 17,
   "id": "5dcc889e",
   "metadata": {},
   "outputs": [],
   "source": [
    "def dot_product(a, b):\n",
    "    c = a*b\n",
    "    ans = 0\n",
    "    for x in c:\n",
    "        ans+=x\n",
    "    return ans\n",
    "    "
   ]
  },
  {
   "cell_type": "code",
   "execution_count": null,
   "id": "e3506725",
   "metadata": {},
   "outputs": [],
   "source": []
  },
  {
   "cell_type": "code",
   "execution_count": 35,
   "id": "4e137dec",
   "metadata": {},
   "outputs": [
    {
     "data": {
      "text/plain": [
       "np.int64(41)"
      ]
     },
     "execution_count": 35,
     "metadata": {},
     "output_type": "execute_result"
    }
   ],
   "source": [
    "a = np.array([1,2,3])\n",
    "b = np.array([4,5,9])\n",
    "dot_product(a, b)"
   ]
  },
  {
   "cell_type": "code",
   "execution_count": 48,
   "id": "d93f612d",
   "metadata": {},
   "outputs": [],
   "source": [
    "import math"
   ]
  },
  {
   "cell_type": "code",
   "execution_count": 52,
   "id": "b05d1f63",
   "metadata": {},
   "outputs": [],
   "source": [
    "def softmax(a):\n",
    "    b = np.exp(a)\n",
    "    c = 0\n",
    "    for x in b:\n",
    "        c += x\n",
    "    return b/c"
   ]
  },
  {
   "cell_type": "code",
   "execution_count": 59,
   "id": "8ae480d1",
   "metadata": {},
   "outputs": [
    {
     "data": {
      "text/plain": [
       "array([0.0320586 , 0.08714432, 0.23688282, 0.64391426])"
      ]
     },
     "execution_count": 59,
     "metadata": {},
     "output_type": "execute_result"
    }
   ],
   "source": [
    "softmax_vector = np.array([-1, 0, 1,2])\n",
    "(softmax(softmax_vector))\n"
   ]
  },
  {
   "cell_type": "code",
   "execution_count": 60,
   "id": "8c09ec70",
   "metadata": {},
   "outputs": [
    {
     "data": {
      "text/plain": [
       "np.float64(1.0)"
      ]
     },
     "execution_count": 60,
     "metadata": {},
     "output_type": "execute_result"
    }
   ],
   "source": [
    "sum(softmax(softmax_vector))"
   ]
  },
  {
   "cell_type": "code",
   "execution_count": null,
   "id": "2833d518",
   "metadata": {},
   "outputs": [],
   "source": [
    "# Axis based softmax\n",
    "def softmax_with_axis(a, axis = 1):\n",
    "    if(axis == 1):\n",
    "        \n",
    "\n"
   ]
  },
  {
   "cell_type": "code",
   "execution_count": null,
   "id": "adb4f459",
   "metadata": {},
   "outputs": [],
   "source": [
    "matrix_2d = np.array([[1, 2, 3], [4, 5, 6]])"
   ]
  }
 ],
 "metadata": {
  "kernelspec": {
   "display_name": "base",
   "language": "python",
   "name": "python3"
  },
  "language_info": {
   "codemirror_mode": {
    "name": "ipython",
    "version": 3
   },
   "file_extension": ".py",
   "mimetype": "text/x-python",
   "name": "python",
   "nbconvert_exporter": "python",
   "pygments_lexer": "ipython3",
   "version": "3.12.11"
  }
 },
 "nbformat": 4,
 "nbformat_minor": 5
}
