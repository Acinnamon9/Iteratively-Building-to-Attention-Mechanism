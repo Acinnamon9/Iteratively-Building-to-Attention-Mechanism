{
 "cells": [
  {
   "cell_type": "code",
   "execution_count": 3,
   "id": "670f32ac",
   "metadata": {},
   "outputs": [],
   "source": [
    "class Dog:\n",
    "    species = \"Canis Familiaris\"\n",
    "\n",
    "    def __init__(self, name, age):\n",
    "        self.name = name\n",
    "        self.age = age\n",
    "\n",
    "    def bark(self):\n",
    "        return f\"{self.name} says Woof!\"\n",
    "    \n",
    "    def get_info(self):\n",
    "        return f\"{self.name} is of {self.age} of species {self.species}.\""
   ]
  },
  {
   "cell_type": "code",
   "execution_count": null,
   "id": "0fdc9b66",
   "metadata": {},
   "outputs": [],
   "source": [
    "my_dog = Dog(\"Buddy\", 5)\n",
    "your_dog = Dog(\"Lucy\", 2)\n"
   ]
  },
  {
   "cell_type": "code",
   "execution_count": 9,
   "id": "85dafe61",
   "metadata": {},
   "outputs": [
    {
     "data": {
      "text/plain": [
       "'Buddy says Woof!'"
      ]
     },
     "execution_count": 9,
     "metadata": {},
     "output_type": "execute_result"
    }
   ],
   "source": [
    "my_dog.bark()"
   ]
  },
  {
   "cell_type": "code",
   "execution_count": null,
   "id": "db6a6931",
   "metadata": {},
   "outputs": [],
   "source": [
    "class MyCollection:\n",
    "    def __init__(self, items):\n",
    "        self._items = list(items)\n",
    "\n",
    "    def __getitem__(self, key):\n",
    "        print(f\"getitem called with key: {key}\")\n",
    "        return self._items[key]\n",
    "\n",
    "    def __len__(self):\n",
    "        return len(self._items)"
   ]
  },
  {
   "cell_type": "code",
   "execution_count": 11,
   "id": "e8d5354d",
   "metadata": {},
   "outputs": [],
   "source": [
    "mc = MyCollection([\"apple\", \"banana\", \"cherry\", \"dates\", \"elderberry\"])"
   ]
  },
  {
   "cell_type": "code",
   "execution_count": 12,
   "id": "f33589b5",
   "metadata": {},
   "outputs": [
    {
     "name": "stdout",
     "output_type": "stream",
     "text": [
      "getitem called with key: 0\n"
     ]
    },
    {
     "data": {
      "text/plain": [
       "'apple'"
      ]
     },
     "execution_count": 12,
     "metadata": {},
     "output_type": "execute_result"
    }
   ],
   "source": [
    "mc[0]"
   ]
  },
  {
   "cell_type": "code",
   "execution_count": null,
   "id": "c547289e",
   "metadata": {},
   "outputs": [],
   "source": []
  }
 ],
 "metadata": {
  "kernelspec": {
   "display_name": "base",
   "language": "python",
   "name": "python3"
  },
  "language_info": {
   "codemirror_mode": {
    "name": "ipython",
    "version": 3
   },
   "file_extension": ".py",
   "mimetype": "text/x-python",
   "name": "python",
   "nbconvert_exporter": "python",
   "pygments_lexer": "ipython3",
   "version": "3.12.11"
  }
 },
 "nbformat": 4,
 "nbformat_minor": 5
}
