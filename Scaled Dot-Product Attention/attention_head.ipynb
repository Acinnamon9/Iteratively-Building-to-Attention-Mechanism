{
 "cells": [
  {
   "cell_type": "code",
   "execution_count": null,
   "id": "2030fe67",
   "metadata": {},
   "outputs": [],
   "source": [
    "import numpy as np\n",
    "from scipy.special import softmax"
   ]
  },
  {
   "cell_type": "code",
   "execution_count": 2,
   "id": "e3777923",
   "metadata": {},
   "outputs": [],
   "source": [
    "def scaled_dot_product_attention(Q, K, V):\n",
    "    # Q: (n_q, d_k)\n",
    "    # K: (n_k, d_k)\n",
    "    # V: (n_k, d_v)\n",
    "    \n",
    "    # Step 1: compute dot product between Q and K.T\n",
    "    scores = np.matmul(Q, K.T)  # shape: (n_q, n_k)\n",
    "    \n",
    "    # Step 2: scale scores\n",
    "    d_k = K.shape[1]\n",
    "    scaled_scores = scores / np.sqrt(d_k)\n",
    "    \n",
    "    # Step 3: softmax\n",
    "    weights = softmax(scaled_scores, axis=1)\n",
    "    \n",
    "    # Step 4: multiply weights with V\n",
    "    output = np.matmul(weights, V)  # shape: (n_q, d_v)\n",
    "    \n",
    "    return output, weights\n"
   ]
  }
 ],
 "metadata": {
  "kernelspec": {
   "display_name": "base",
   "language": "python",
   "name": "python3"
  },
  "language_info": {
   "codemirror_mode": {
    "name": "ipython",
    "version": 3
   },
   "file_extension": ".py",
   "mimetype": "text/x-python",
   "name": "python",
   "nbconvert_exporter": "python",
   "pygments_lexer": "ipython3",
   "version": "3.12.11"
  }
 },
 "nbformat": 4,
 "nbformat_minor": 5
}
